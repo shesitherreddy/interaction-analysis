{
 "cells": [
  {
   "cell_type": "code",
   "execution_count": 2,
   "id": "c44e06fb",
   "metadata": {},
   "outputs": [
    {
     "name": "stdout",
     "output_type": "stream",
     "text": [
      "       county      deaths  Age(2022) unemployment(2022)\n",
      "0    Anderson  239.605479       39.3              3.40%\n",
      "1     Andrews   71.619178       32.2              3.20%\n",
      "2    Angelina  480.402740       37.4              4.60%\n",
      "3     Aransas   86.572603       49.7              5.30%\n",
      "4      Archer   28.210959       42.7              3.40%\n",
      "..        ...         ...        ...                ...\n",
      "249      Wood  286.041096       48.7              4.50%\n",
      "250    Yoakum   41.156164       30.1              4.00%\n",
      "251     Young   92.175342       40.7              3.40%\n",
      "252    Zapata   53.890411       30.6              6.90%\n",
      "253    Zavala   67.246575       32.5              8.60%\n",
      "\n",
      "[254 rows x 4 columns]\n"
     ]
    }
   ],
   "source": [
    "import pandas as pd\n",
    "import matplotlib.pyplot as plt\n",
    "import statsmodels.api as sm\n",
    "import numpy as np\n",
    "from sklearn.preprocessing import LabelEncoder\n",
    "\n",
    "# Load your data\n",
    "df_texas_2022 = pd.read_csv('us-counties-2022.csv')\n",
    "data_1 = pd.read_csv('age.csv')\n",
    "data = pd.read_csv('unemployment.csv')\n",
    "\n",
    "# Filter data for Texas in the year 2022\n",
    "df_texas_2022 = df_texas_2022[(df_texas_2022[\"state\"] == 'Texas') & (df_texas_2022[\"county\"] != 'Unknown') & (df_texas_2022[\"county\"] != 'Pending County Assignment') & (df_texas_2022[\"date\"].str.startswith('2022'))]\n",
    "\n",
    "# Group by county and calculate the mean of deaths\n",
    "county_mean_deaths = df_texas_2022.groupby('county')['deaths'].mean().reset_index()\n",
    "\n",
    "\n",
    "# Merge the datasets using the 'county' column as the common key\n",
    "merged_data = pd.merge(county_mean_deaths, data_1, on='county')\n",
    "merged_data = pd.merge(merged_data, data, on='county')\n",
    "print(merged_data)\n",
    "\n",
    "\n"
   ]
  },
  {
   "cell_type": "code",
   "execution_count": null,
   "id": "b335b4e5",
   "metadata": {},
   "outputs": [],
   "source": []
  }
 ],
 "metadata": {
  "kernelspec": {
   "display_name": "Python 3 (ipykernel)",
   "language": "python",
   "name": "python3"
  },
  "language_info": {
   "codemirror_mode": {
    "name": "ipython",
    "version": 3
   },
   "file_extension": ".py",
   "mimetype": "text/x-python",
   "name": "python",
   "nbconvert_exporter": "python",
   "pygments_lexer": "ipython3",
   "version": "3.11.4"
  }
 },
 "nbformat": 4,
 "nbformat_minor": 5
}
